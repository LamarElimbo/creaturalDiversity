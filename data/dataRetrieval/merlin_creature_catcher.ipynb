{
 "cells": [
  {
   "cell_type": "code",
   "execution_count": 1,
   "metadata": {
    "collapsed": true
   },
   "outputs": [],
   "source": [
    "# Set up data collection foundation\n",
    "\n",
    "CREATURE_NAME=[]\n",
    "CREATURE_CAT=[]\n",
    "SEASON_EP=[]\n",
    "SHOW_NAME=[]\n",
    "\n",
    "TABLE_COLUMNS = ['creature_name', 'creature_cat', 'season_ep', 'show_name']\n",
    "\n",
    "DATABASE = {'creature_name':CREATURE_NAME, 'creature_cat':CREATURE_CAT, 'season_ep':SEASON_EP, 'show_name':SHOW_NAME}\n",
    "\n",
    "MERLIN_URL = 'http://merlin.wikia.com/wiki/Creatures_of_Magic'"
   ]
  },
  {
   "cell_type": "code",
   "execution_count": 2,
   "metadata": {
    "collapsed": true
   },
   "outputs": [],
   "source": [
    "# Libraries\n",
    "from bs4 import BeautifulSoup as soup\n",
    "import pandas as pd\n",
    "import re\n",
    "from urllib import request"
   ]
  },
  {
   "cell_type": "code",
   "execution_count": 3,
   "metadata": {
    "collapsed": true
   },
   "outputs": [],
   "source": [
    "# Convert html to a more user friendly format\n",
    "def soupTheLink(url):\n",
    "    html = request.urlopen(url).read().decode('utf8')\n",
    "    return soup(html, 'lxml')"
   ]
  },
  {
   "cell_type": "code",
   "execution_count": 4,
   "metadata": {
    "collapsed": true
   },
   "outputs": [],
   "source": [
    "# Scrape a list of links to the categories of creatures\n",
    "def collectCatLinks(url):\n",
    "\n",
    "    catLinks = []\n",
    "\n",
    "    souped = soupTheLink(url)\n",
    "\n",
    "    body = souped.find(id='mw-content-text')\n",
    "    header = body.find(id='Known_Creatures_of_Magic').find_parent()\n",
    "    categories = header.find_next_sibling('ul')\n",
    "    for category in categories.find_all('li'):\n",
    "        link = category.find('a', href = True)\n",
    "        try:\n",
    "            fullLink = 'http://merlin.wikia.com' + link['href']\n",
    "            catLinks.append(fullLink)\n",
    "        except TypeError:\n",
    "            pass\n",
    "    return catLinks"
   ]
  },
  {
   "cell_type": "code",
   "execution_count": 6,
   "metadata": {
    "collapsed": false
   },
   "outputs": [],
   "source": [
    "# Jump into the list of links to the creatures based on the categories\n",
    "def intoCategoryLinks(url):\n",
    "    print('categoryLink: ', url)\n",
    "    souped = soupTheLink(url)\n",
    "\n",
    "    body = souped.find(id='mw-content-text')\n",
    "    table = body.find('table')\n",
    "    headline = body.find(id='Appearances')\n",
    "    if headline == None and table != None:\n",
    "        pageLinks = table.find('tr')\n",
    "\n",
    "        for creature in pageLinks.find_next_siblings('tr'):\n",
    "            for links in creature.find_all('td', limit=1):\n",
    "                try:\n",
    "                    link = links.find('a', href = True)                    \n",
    "                    fullLink = 'http://merlin.wikia.com' + link['href']\n",
    "                    intoCreatureLink(fullLink)\n",
    "                except TypeError:\n",
    "                    pass\n",
    "                \n",
    "    elif headline != None:\n",
    "        intoCreatureLink(url)   "
   ]
  },
  {
   "cell_type": "code",
   "execution_count": 7,
   "metadata": {
    "collapsed": false
   },
   "outputs": [],
   "source": [
    "# Import the rest of the data to the database\n",
    "def intoCreatureLink(creature):\n",
    "\n",
    "    print('creatureLink: ', creature)\n",
    "    souped = soupTheLink(creature)\n",
    "\n",
    "    #collect creature name\n",
    "    name = creature[29:]\n",
    "    DATABASE['creature_name'].append(name)\n",
    "\n",
    "    #collect show name\n",
    "    DATABASE['show_name'].append('Merlin')\n",
    "\n",
    "    #collect season appearances\n",
    "    currentSeason = 0\n",
    "    seasonLink = ''\n",
    "    body = souped.find(id='mw-content-text')\n",
    "    SEASON_EP=[]\n",
    "    headline = body.find(id='Appearances')\n",
    "    if headline != None:\n",
    "\n",
    "        headline = headline.find_parent()\n",
    "        seasonList = headline.find_next_sibling('dl')\n",
    "        for seasons in seasonList.find_all('dt'):\n",
    "            seasonDegree=[]\n",
    "            seasonText = seasons.get_text()\n",
    "            try:\n",
    "                season = int(seasonText[7])\n",
    "            except ValueError:\n",
    "                season = 'None'\n",
    "            degree = 0\n",
    "            for episode in seasons.find_next_siblings('dd'):\n",
    "                degree += 1\n",
    "            seasonDegree.extend([season, degree])\n",
    "        DATABASE['season_ep'].append(seasonDegree) \n",
    "    else:\n",
    "        DATABASE['season_ep'].append('None') "
   ]
  },
  {
   "cell_type": "code",
   "execution_count": 8,
   "metadata": {
    "collapsed": true
   },
   "outputs": [],
   "source": [
    "# Main program\n",
    "def collectCreatureLinks(catLinks):\n",
    "    for mainLink in catLinks:\n",
    "        intoCategoryLinks(mainLink)"
   ]
  },
  {
   "cell_type": "code",
   "execution_count": 9,
   "metadata": {
    "collapsed": true
   },
   "outputs": [
    {
     "name": "stdout",
     "output_type": "stream",
     "text": [
      "categoryLink:  http://merlin.wikia.com/wiki/Warlock\n",
      "creatureLink:  http://merlin.wikia.com/wiki/Merlin\n",
      "creatureLink:  http://merlin.wikia.com/wiki/Ghost_Boy\n",
      "creatureLink:  http://merlin.wikia.com/wiki/Gaius\n",
      "creatureLink:  http://merlin.wikia.com/wiki/Edwin_Muirden\n",
      "creatureLink:  http://merlin.wikia.com/wiki/Gilli\n",
      "creatureLink:  http://merlin.wikia.com/wiki/Druids\n",
      "creatureLink:  http://merlin.wikia.com/wiki/Druid_Boy\n",
      "creatureLink:  http://merlin.wikia.com/wiki/Mordred\n",
      "creatureLink:  http://merlin.wikia.com/wiki/Balinor\n",
      "creatureLink:  http://merlin.wikia.com/wiki/Alator\n",
      "creatureLink:  http://merlin.wikia.com/wiki/Taliesin\n",
      "creatureLink:  http://merlin.wikia.com/wiki/Tauren\n",
      "creatureLink:  http://merlin.wikia.com/wiki/Alvarr\n",
      "creatureLink:  http://merlin.wikia.com/wiki/Anhora\n",
      "creatureLink:  http://merlin.wikia.com/wiki/Gregor\n",
      "categoryLink:  http://merlin.wikia.com/wiki/Witch\n",
      "creatureLink:  http://merlin.wikia.com/wiki/Morgana_Pendragon\n",
      "creatureLink:  http://merlin.wikia.com/wiki/Morgause\n",
      "creatureLink:  http://merlin.wikia.com/wiki/Nimueh\n",
      "creatureLink:  http://merlin.wikia.com/wiki/Alice\n",
      "creatureLink:  http://merlin.wikia.com/wiki/Jaden_Muirden\n",
      "creatureLink:  http://merlin.wikia.com/wiki/Vivienne\n",
      "creatureLink:  http://merlin.wikia.com/wiki/Finna\n",
      "creatureLink:  http://merlin.wikia.com/wiki/Mary_Collins\n",
      "categoryLink:  http://merlin.wikia.com/wiki/Druid\n",
      "creatureLink:  http://merlin.wikia.com/wiki/Druid\n",
      "categoryLink:  http://merlin.wikia.com/wiki/Dragonlord\n",
      "categoryLink:  http://merlin.wikia.com/wiki/Seer\n",
      "creatureLink:  http://merlin.wikia.com/wiki/Morgana_Pendragon\n",
      "creatureLink:  http://merlin.wikia.com/wiki/Morgause\n",
      "creatureLink:  http://merlin.wikia.com/wiki/Taliesin\n",
      "creatureLink:  http://merlin.wikia.com/wiki/Kilgharrah\n",
      "creatureLink:  http://merlin.wikia.com/wiki/Nimueh\n",
      "creatureLink:  http://merlin.wikia.com/wiki/Iseldir\n",
      "creatureLink:  http://merlin.wikia.com/wiki/Lochru\n",
      "categoryLink:  http://merlin.wikia.com/wiki/Dorocha\n",
      "categoryLink:  http://merlin.wikia.com/wiki/Cockatrice\n",
      "categoryLink:  http://merlin.wikia.com/wiki/Dochraid\n",
      "creatureLink:  http://merlin.wikia.com/wiki/Dochraid\n",
      "categoryLink:  http://merlin.wikia.com/wiki/Dragon\n",
      "creatureLink:  http://merlin.wikia.com/wiki/Dragon\n",
      "categoryLink:  http://merlin.wikia.com/wiki/Fomorroh\n",
      "creatureLink:  http://merlin.wikia.com/wiki/Fomorroh\n",
      "categoryLink:  http://merlin.wikia.com/wiki/Goblin\n",
      "creatureLink:  http://merlin.wikia.com/wiki/Goblin\n",
      "categoryLink:  http://merlin.wikia.com/wiki/Griffin\n",
      "creatureLink:  http://merlin.wikia.com/wiki/Griffin\n",
      "categoryLink:  http://merlin.wikia.com/wiki/Jonas\n",
      "creatureLink:  http://merlin.wikia.com/wiki/Jonas\n",
      "categoryLink:  http://merlin.wikia.com/wiki/Lamia\n",
      "categoryLink:  http://merlin.wikia.com/wiki/Manticore\n",
      "categoryLink:  http://merlin.wikia.com/wiki/Nathair\n",
      "creatureLink:  http://merlin.wikia.com/wiki/Nathair\n",
      "categoryLink:  http://merlin.wikia.com/wiki/Pixie\n",
      "categoryLink:  http://merlin.wikia.com/wiki/Phoenix\n",
      "creatureLink:  http://merlin.wikia.com/wiki/Phoenix\n",
      "categoryLink:  http://merlin.wikia.com/wiki/Questing_Beast\n",
      "categoryLink:  http://merlin.wikia.com/wiki/Sidhe\n",
      "creatureLink:  http://merlin.wikia.com/wiki/Sidhe\n",
      "categoryLink:  http://merlin.wikia.com/wiki/Snake\n",
      "categoryLink:  http://merlin.wikia.com/wiki/Troll\n",
      "creatureLink:  http://merlin.wikia.com/wiki/Troll\n",
      "categoryLink:  http://merlin.wikia.com/wiki/Unicorn\n",
      "categoryLink:  http://merlin.wikia.com/wiki/Vilia\n",
      "categoryLink:  http://merlin.wikia.com/wiki/The_Cailleach\n",
      "categoryLink:  http://merlin.wikia.com/wiki/Wyvern\n",
      "creatureLink:  http://merlin.wikia.com/wiki/Wyvern\n",
      "categoryLink:  http://merlin.wikia.com/wiki/Dochraid\n",
      "creatureLink:  http://merlin.wikia.com/wiki/Dochraid\n",
      "categoryLink:  http://merlin.wikia.com/wiki/Magic_wolves\n",
      "categoryLink:  http://merlin.wikia.com/wiki/Euchdag\n",
      "categoryLink:  http://merlin.wikia.com/wiki/Serket\n",
      "creatureLink:  http://merlin.wikia.com/wiki/Serket\n",
      "Database:  {'creature_name': ['Merlin', 'Ghost_Boy', 'Gaius', 'Edwin_Muirden', 'Gilli', 'Druids', 'Druid_Boy', 'Mordred', 'Balinor', 'Alator', 'Taliesin', 'Tauren', 'Alvarr', 'Anhora', 'Gregor', 'Morgana_Pendragon', 'Morgause', 'Nimueh', 'Alice', 'Jaden_Muirden', 'Vivienne', 'Finna', 'Mary_Collins', 'Druid', 'Morgana_Pendragon', 'Morgause', 'Taliesin', 'Kilgharrah', 'Nimueh', 'Iseldir', 'Lochru', 'Dochraid', 'Dragon', 'Fomorroh', 'Goblin', 'Griffin', 'Jonas', 'Nathair', 'Phoenix', 'Sidhe', 'Troll', 'Wyvern', 'Dochraid', 'Serket'], 'show_name': ['Merlin', 'Merlin', 'Merlin', 'Merlin', 'Merlin', 'Merlin', 'Merlin', 'Merlin', 'Merlin', 'Merlin', 'Merlin', 'Merlin', 'Merlin', 'Merlin', 'Merlin', 'Merlin', 'Merlin', 'Merlin', 'Merlin', 'Merlin', 'Merlin', 'Merlin', 'Merlin', 'Merlin', 'Merlin', 'Merlin', 'Merlin', 'Merlin', 'Merlin', 'Merlin', 'Merlin', 'Merlin', 'Merlin', 'Merlin', 'Merlin', 'Merlin', 'Merlin', 'Merlin', 'Merlin', 'Merlin', 'Merlin', 'Merlin', 'Merlin', 'Merlin'], 'season_ep': ['None', [3, 2], 'None', 'None', 'None', [5, 11], 'None', [5, 12], [5, 2], 'None', 'None', 'None', 'None', 'None', 'None', 'None', [4, 4], [3, 1], 'None', 'None', 'None', [5, 2], [1, 1], [5, 11], 'None', [4, 4], 'None', ['None', 4], [3, 1], [4, 1], 'None', [5, 1], [5, 3], ['None', 2], [3, 1], [2, 1], [2, 2], [5, 2], [3, 1], [3, 1], [2, 2], [4, 2], [5, 1], [5, 1]], 'creature_cat': []}\n"
     ]
    }
   ],
   "source": [
    "# Run program\n",
    "categoryLinks = collectCatLinks(MERLIN_URL)\n",
    "collectCreatureLinks(categoryLinks)\n",
    "print('Database: ', DATABASE)"
   ]
  },
  {
   "cell_type": "code",
   "execution_count": 15,
   "metadata": {
    "collapsed": false
   },
   "outputs": [],
   "source": [
    "CREATURE_CAT = ['Warlock', 'Warlock', 'Warlock', 'Warlock', 'Warlock', 'Warlock', 'Warlock', 'Warlock', 'Warlock', 'Warlock', 'Warlock', 'Warlock', 'Warlock', 'Warlock', 'Warlock', 'Witch', 'Witch', 'Witch', 'Witch', 'Witch', 'Witch', 'Witch', 'Witch', 'Druid', 'Seer', 'Seer', 'Seer', 'Seer', 'Seer', 'Seer'\n",
    ", 'Seer', 'Dochraid', 'Dragon', 'Fomorroh', 'Goblin', 'Griffin', 'Jonas', 'Nathair', 'Phoenix', 'Sidhe', 'Troll', 'Wyvern', 'Dochraid', 'Serket']"
   ]
  },
  {
   "cell_type": "code",
   "execution_count": 30,
   "metadata": {
    "collapsed": false
   },
   "outputs": [
    {
     "name": "stdout",
     "output_type": "stream",
     "text": [
      "1:  44 2:  44 3:  44 4:  44\n"
     ]
    }
   ],
   "source": [
    "print('1: ', len(CREATURE_NAME), '2: ', len(CREATURE_CAT), '3: ', len(SEASON_EP), '4: ', len(SHOW_NAME))"
   ]
  },
  {
   "cell_type": "code",
   "execution_count": 31,
   "metadata": {
    "collapsed": false
   },
   "outputs": [
    {
     "name": "stdout",
     "output_type": "stream",
     "text": [
      "[44, 44, 44, 44]\n"
     ]
    }
   ],
   "source": [
    "lengths = [len(v) for v in DATABASE.values()]\n",
    "print(lengths)"
   ]
  },
  {
   "cell_type": "code",
   "execution_count": 32,
   "metadata": {
    "collapsed": true
   },
   "outputs": [],
   "source": [
    "# Save to file\n",
    "pd.DataFrame(DATABASE).T.reset_index().to_csv('merlinCreatures.csv', header=True, index=False)"
   ]
  },
  {
   "cell_type": "code",
   "execution_count": 29,
   "metadata": {
    "collapsed": true
   },
   "outputs": [],
   "source": [
    "DATABASE['creature_cat'] = CREATURE_CAT"
   ]
  }
 ],
 "metadata": {
  "kernelspec": {
   "display_name": "Python 3",
   "language": "python",
   "name": "python3"
  },
  "language_info": {
   "codemirror_mode": {
    "name": "ipython",
    "version": 3
   },
   "file_extension": ".py",
   "mimetype": "text/x-python",
   "name": "python",
   "nbconvert_exporter": "python",
   "pygments_lexer": "ipython3",
   "version": "3.5.2"
  }
 },
 "nbformat": 4,
 "nbformat_minor": 0
}
